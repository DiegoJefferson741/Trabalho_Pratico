{
  "nbformat": 4,
  "nbformat_minor": 0,
  "metadata": {
    "colab": {
      "provenance": []
    },
    "kernelspec": {
      "name": "python3",
      "display_name": "Python 3"
    },
    "language_info": {
      "name": "python"
    }
  },
  "cells": [
    {
      "cell_type": "code",
      "execution_count": 51,
      "metadata": {
        "id": "RqLeOt96A0qG"
      },
      "outputs": [],
      "source": [
        "#importando as bibliotecas \n",
        "\n",
        "import numpy as np\n",
        "import pandas as pd\n",
        "import seaborn as sns\n",
        "import matplotlib.pyplot as plt\n",
        "import sqlite3\n",
        "\n",
        "#from pandas_profiling import ProfileReport\n",
        "\n",
        "from sklearn.preprocessing import LabelEncoder\n",
        "from sklearn.preprocessing import StandardScaler\n",
        "from sklearn.model_selection import train_test_split\n",
        "\n",
        "from sklearn.linear_model import LinearRegression"
      ]
    },
    {
      "cell_type": "code",
      "source": [
        "### Importando os dados direto do github\n",
        " \n",
        "#url='https://github.com/DiegoJefferson741/Trabalho_Pratico/blob/main/StudentsPerformace.csv?raw=true' # dados sem valores categoricos\n",
        "url='https://github.com/Diegojfsr/VisualizacaoDados_TrabalhoPratico2/blob/main/csv/Students.csv?raw=true' # dados ainda com valores categoricos\n",
        "\n",
        "data = pd.read_csv(url)\n",
        "data"
      ],
      "metadata": {
        "id": "Kdk2lRfeBlSK"
      },
      "execution_count": null,
      "outputs": []
    },
    {
      "cell_type": "code",
      "source": [
        "### Importando os dados direto do banco de dados SQLite\n",
        "\n",
        "import sqlite3\n",
        "\n",
        "# Criação da conexão\n",
        "# OBS: a string deve conter o caminho até o arquivo do seu banco de dados.\n",
        "connection = sqlite3.connect(\"StudentsPerformance.db\")\n",
        "\n",
        "# Operações com o banco (SELECT, CREATE, ETC)\n",
        "\n",
        "# Encerramento da conexão\n",
        "connection.close()"
      ],
      "metadata": {
        "id": "8Nfs-PfWFMFO"
      },
      "execution_count": null,
      "outputs": []
    },
    {
      "cell_type": "code",
      "source": [
        "### Conectando ao banco de dados SQLite\n",
        "\n",
        "connection = sqlite3.connect(\"StudentsPerformance.db\")\n",
        "\n",
        "# Criação do cursor, elemento que \"aponta\" para os dados e permite percorrê-los\n",
        "cursor = connection.cursor()\n",
        "\n",
        "# Definição da string de busca no banco de dados\n",
        "query = \"SELECT * FROM Students\"\n",
        "\n",
        "# Execução da consulta pelo cursor\n",
        "cursor.execute(query)\n",
        "\n",
        "# Extração dos resultados\n",
        "result = cursor.fetchall()\n",
        "\n",
        "connection.close()"
      ],
      "metadata": {
        "id": "kqa76J16FYYT"
      },
      "execution_count": null,
      "outputs": []
    },
    {
      "cell_type": "code",
      "source": [
        "### Exibindo um array dos dados obtidos\n",
        "\n",
        "for row in result:\n",
        "    print(row)"
      ],
      "metadata": {
        "id": "cJTXKXqYFgfT"
      },
      "execution_count": null,
      "outputs": []
    },
    {
      "cell_type": "code",
      "source": [
        "### Transformando o array de dados em um Dataframe\n",
        "\n",
        "import pandas as pd\n",
        "\n",
        "data = pd.DataFrame(result, columns=[\"gender\", \"race_ethnicity\", \"parental level\", \"lunch\", \n",
        "                                   \"test preparation course\", \"math score\", \"reading score\", \"writing score\" ])\n",
        "display(data.head(25))"
      ],
      "metadata": {
        "id": "P2pDI_4LFqwV"
      },
      "execution_count": null,
      "outputs": []
    },
    {
      "cell_type": "code",
      "source": [
        "### Convertendo os dados categoricos\n",
        "\n",
        "encoder = LabelEncoder()\n",
        "\n",
        "data['gender'] = encoder.fit_transform(data['gender'])\n",
        "gender_mappings = {index: label for index, label in enumerate(encoder.classes_)}\n",
        "\n",
        "data['race_ethnicity'] = encoder.fit_transform(data['race_ethnicity'])\n",
        "race_ethnicity_mappings = {index: label for index, label in enumerate(encoder.classes_)}\n",
        "\n",
        "data['parental_level_education'] = encoder.fit_transform(data['parental_level_education'])\n",
        "parental_level_education_mappings = {index: label for index, label in enumerate(encoder.classes_)}\n",
        "\n",
        "data['lunch'] = encoder.fit_transform(data['lunch'])\n",
        "lunch_mappings = {index: label for index, label in enumerate(encoder.classes_)}\n",
        "\n",
        "data['test_preparation_course'] = encoder.fit_transform(data['test_preparation_course'])\n",
        "test_preparation_course_mappings = {index: label for index, label in enumerate(encoder.classes_)}"
      ],
      "metadata": {
        "id": "AokZGoMJF03T"
      },
      "execution_count": 54,
      "outputs": []
    },
    {
      "cell_type": "code",
      "source": [
        "data"
      ],
      "metadata": {
        "id": "6I8_HhkSWipq"
      },
      "execution_count": null,
      "outputs": []
    },
    {
      "cell_type": "code",
      "source": [
        "### Exportando um arquivo CSV com os dados tratados \n",
        "\n",
        "from google.colab import files\n",
        "data.to_csv('StudantsPerformance.csv') \n",
        "files.download('StudantsPerformance.csv')"
      ],
      "metadata": {
        "id": "EkRSpMCsgy3A"
      },
      "execution_count": null,
      "outputs": []
    },
    {
      "cell_type": "code",
      "source": [
        "#### Machine Learning ####\n",
        "\n",
        "#Separando os dados em features e classes.\n",
        "\n",
        "y = data['math_score']\n",
        "X = data.drop(['math_score'],axis =1)"
      ],
      "metadata": {
        "id": "LJw4sqTwCEnO"
      },
      "execution_count": 38,
      "outputs": []
    },
    {
      "cell_type": "code",
      "source": [
        "#Separando os conjuntos de treino e teste.\n",
        "\n",
        "from sklearn.model_selection import train_test_split\n",
        "from sklearn.metrics import mean_absolute_error, mean_squared_error, r2_score\n",
        "\n",
        "def calcula_metricas(y_test,preds):\n",
        "    print('MAE:', mean_absolute_error(y_test, preds))\n",
        "    print('RMSE:', np.sqrt(mean_squared_error(y_test, preds)))\n",
        "    print('R2:', r2_score(y_test, preds))"
      ],
      "metadata": {
        "id": "GI6DWdnhCHFf"
      },
      "execution_count": 39,
      "outputs": []
    },
    {
      "cell_type": "code",
      "source": [
        "X_train, X_test, y_train, y_test = train_test_split(X,y,test_size =0.3)"
      ],
      "metadata": {
        "id": "8N2StZgUCj0m"
      },
      "execution_count": 40,
      "outputs": []
    },
    {
      "cell_type": "code",
      "source": [
        "acc=[]\n",
        "\n",
        "#**Calculando a nossa Baseline**\n",
        "\n",
        "from sklearn.dummy import DummyRegressor\n",
        "\n",
        "model = DummyRegressor()\n",
        "\n",
        "# Iniciando o treinamento.\n",
        "\n",
        "model.fit(X_train,y_train)"
      ],
      "metadata": {
        "id": "0NqytKzyCnFc"
      },
      "execution_count": null,
      "outputs": []
    },
    {
      "cell_type": "code",
      "source": [
        "#Fazendo as predições\n",
        "\n",
        "preds = model.predict(X_test)\n",
        "\n",
        "#Calculando as métricas.\n",
        "\n",
        "calcula_metricas(y_test,preds)"
      ],
      "metadata": {
        "id": "wrm0YYxzCqJD"
      },
      "execution_count": null,
      "outputs": []
    },
    {
      "cell_type": "code",
      "source": [
        "#Armazendo o resultado.\n",
        "\n",
        "acc.append(\n",
        "            [\n",
        "              'BAS', r2_score(y_test,preds)\n",
        "            ]\n",
        "          )\n",
        "\n",
        "acc"
      ],
      "metadata": {
        "id": "OTFpq0BPCsw7"
      },
      "execution_count": null,
      "outputs": []
    },
    {
      "cell_type": "code",
      "source": [
        "#Random Forest\n",
        "\n",
        "from sklearn.ensemble import RandomForestRegressor\n",
        "\n",
        "#Iniciando o treinamento.\n",
        "\n",
        "model = RandomForestRegressor()\n",
        "model.fit(X_train,y_train)\n",
        "\n",
        "#Fazendo as predições\n",
        "\n",
        "preds = model.predict(X_test)\n",
        "\n",
        "#Calculando as métricas.\n",
        "\n",
        "calcula_metricas(y_test,preds)\n",
        "\n",
        "#Armazendo o resultado.\n",
        "\n",
        "acc.append(['RFN',r2_score(y_test,model.predict(X_test))])\n",
        "\n",
        "acc"
      ],
      "metadata": {
        "id": "xwYUm9etCvVK"
      },
      "execution_count": null,
      "outputs": []
    },
    {
      "cell_type": "code",
      "source": [
        "import sklearn\n",
        "\n",
        "sklearn.__version__"
      ],
      "metadata": {
        "id": "LPJ8Ikr_Cyf6"
      },
      "execution_count": null,
      "outputs": []
    },
    {
      "cell_type": "code",
      "source": [
        "#Salvando o modelo RandomForest \n",
        "\n",
        "import joblib \n",
        "\n",
        "print(joblib.__version__)\n",
        "\n",
        "filename = 'modelo-final-RF.pkl'\n",
        "joblib.dump(model, filename)"
      ],
      "metadata": {
        "id": "MY1mgPEGC1Jc"
      },
      "execution_count": null,
      "outputs": []
    }
  ]
}